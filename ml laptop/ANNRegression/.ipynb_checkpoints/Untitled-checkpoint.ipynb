{
 "cells": [
  {
   "cell_type": "code",
   "execution_count": 1,
   "id": "67fbb65c",
   "metadata": {},
   "outputs": [],
   "source": [
    "import numpy as np\n",
    "import matplotlib.pyplot as plt\n",
    "import pandas as pd"
   ]
  },
  {
   "cell_type": "code",
   "execution_count": 2,
   "id": "13c04fff",
   "metadata": {},
   "outputs": [],
   "source": [
    "# Veri setini yükle\n",
    "dataset = pd.read_excel(\"C:\\\\Users\\\\goaud\\\\Desktop\\\\ml laptop\\\\Preprocessing\\\\laptop-fill-training.xlsx\")"
   ]
  },
  {
   "cell_type": "code",
   "execution_count": 3,
   "id": "e4877614",
   "metadata": {},
   "outputs": [],
   "source": [
    "# Bağımsız değişkenler (X) ve bağımlı değişken (y) olarak veriyi ayır\n",
    "X = dataset.iloc[:, 0:12].values\n",
    "y = dataset.iloc[:, 12].values\n",
    "y = y.reshape(-1, 1) "
   ]
  },
  {
   "cell_type": "code",
   "execution_count": 4,
   "id": "2809b1e0",
   "metadata": {},
   "outputs": [],
   "source": [
    "from sklearn.preprocessing import StandardScaler\n",
    "# Veri normalizasyonu\n",
    "scaler = StandardScaler()\n",
    "X = scaler.fit_transform(X)"
   ]
  },
  {
   "cell_type": "code",
   "execution_count": 5,
   "id": "78b6dd1a",
   "metadata": {},
   "outputs": [],
   "source": [
    "from sklearn.model_selection import train_test_split\n",
    "# Eğitim ve test setlerini oluştur\n",
    "X_train, X_test, y_train, y_test = train_test_split(X, y, test_size=0.2, random_state=0)"
   ]
  },
  {
   "cell_type": "code",
   "execution_count": 20,
   "id": "46659f78",
   "metadata": {},
   "outputs": [],
   "source": [
    "from sklearn.neural_network import MLPRegressor\n",
    "# Yapay Sinir Ağı Regresyon modelini oluştur\n",
    "regressor_ann = MLPRegressor(hidden_layer_sizes=(100, 50), max_iter=10000, activation='relu', random_state=0)\n",
    "regressor_ann.fit(X_train, y_train.ravel())\n",
    "y_pred_ann = regressor_ann.predict(X_test)"
   ]
  },
  {
   "cell_type": "code",
   "execution_count": 21,
   "id": "64cf04fe",
   "metadata": {},
   "outputs": [
    {
     "name": "stdout",
     "output_type": "stream",
     "text": [
      "0.7118903217181367\n"
     ]
    }
   ],
   "source": [
    "from sklearn.metrics import r2_score\n",
    "# R2 skoru ile model performansını değerlendir\n",
    "ann_RSCORE = r2_score(y_test, y_pred_ann)\n",
    "print(ann_RSCORE)"
   ]
  },
  {
   "cell_type": "code",
   "execution_count": 22,
   "id": "7f6a3106",
   "metadata": {},
   "outputs": [
    {
     "data": {
      "text/plain": [
       "['C:\\\\Users\\\\goaud\\\\Desktop\\\\ml laptop\\\\Training\\\\Models\\\\ann_regression_model.joblib']"
      ]
     },
     "execution_count": 22,
     "metadata": {},
     "output_type": "execute_result"
    }
   ],
   "source": [
    "import os\n",
    "import joblib\n",
    "# Modeli kaydet\n",
    "output_directory_ann = \"C:\\\\Users\\\\goaud\\\\Desktop\\\\ml laptop\\\\\"\n",
    "if not os.path.exists(output_directory_ann):\n",
    "    os.makedirs(output_directory_ann)\n",
    "joblib.dump(regressor_ann, os.path.join(output_directory_ann, \"ann_regression_model.joblib\"))"
   ]
  },
  {
   "cell_type": "code",
   "execution_count": null,
   "id": "3df8cc2a",
   "metadata": {},
   "outputs": [],
   "source": []
  }
 ],
 "metadata": {
  "kernelspec": {
   "display_name": "Python 3 (ipykernel)",
   "language": "python",
   "name": "python3"
  },
  "language_info": {
   "codemirror_mode": {
    "name": "ipython",
    "version": 3
   },
   "file_extension": ".py",
   "mimetype": "text/x-python",
   "name": "python",
   "nbconvert_exporter": "python",
   "pygments_lexer": "ipython3",
   "version": "3.11.3"
  }
 },
 "nbformat": 4,
 "nbformat_minor": 5
}
