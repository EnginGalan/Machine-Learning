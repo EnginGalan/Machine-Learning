{
 "cells": [
  {
   "cell_type": "code",
   "execution_count": 1,
   "id": "21ad8a4d",
   "metadata": {},
   "outputs": [],
   "source": [
    "import numpy as np\n",
    "import matplotlib.pyplot as plt\n",
    "import pandas as pd"
   ]
  },
  {
   "cell_type": "code",
   "execution_count": 2,
   "id": "ca23ab63",
   "metadata": {},
   "outputs": [],
   "source": [
    "dataset = pd.read_excel(\"C:\\\\Users\\\\goaud\\\\Desktop\\\\ml laptop\\\\Preprocessing\\\\laptop-fill-training.xlsx\")"
   ]
  },
  {
   "cell_type": "code",
   "execution_count": 3,
   "id": "db9c5c17",
   "metadata": {
    "scrolled": true
   },
   "outputs": [
    {
     "data": {
      "text/html": [
       "<div>\n",
       "<style scoped>\n",
       "    .dataframe tbody tr th:only-of-type {\n",
       "        vertical-align: middle;\n",
       "    }\n",
       "\n",
       "    .dataframe tbody tr th {\n",
       "        vertical-align: top;\n",
       "    }\n",
       "\n",
       "    .dataframe thead th {\n",
       "        text-align: right;\n",
       "    }\n",
       "</style>\n",
       "<table border=\"1\" class=\"dataframe\">\n",
       "  <thead>\n",
       "    <tr style=\"text-align: right;\">\n",
       "      <th></th>\n",
       "      <th>Marka</th>\n",
       "      <th>Ekran Boyutu</th>\n",
       "      <th>Çözünürlük</th>\n",
       "      <th>Ekran Yenileme Hızı</th>\n",
       "      <th>İşlemci Tipi</th>\n",
       "      <th>İşlemci Çekirdek Sayısı</th>\n",
       "      <th>Ram (Sistem Belleği)</th>\n",
       "      <th>SSD Kapasitesi</th>\n",
       "      <th>Ekran Kartı</th>\n",
       "      <th>Ekran Kartı Hafızası</th>\n",
       "      <th>İşletim Sistemi</th>\n",
       "      <th>Cihaz Ağırlığı</th>\n",
       "      <th>Fiyat</th>\n",
       "    </tr>\n",
       "  </thead>\n",
       "  <tbody>\n",
       "    <tr>\n",
       "      <th>0</th>\n",
       "      <td>12</td>\n",
       "      <td>15</td>\n",
       "      <td>1920</td>\n",
       "      <td>60</td>\n",
       "      <td>17</td>\n",
       "      <td>4</td>\n",
       "      <td>8</td>\n",
       "      <td>256</td>\n",
       "      <td>12</td>\n",
       "      <td>0</td>\n",
       "      <td>1</td>\n",
       "      <td>2</td>\n",
       "      <td>10499</td>\n",
       "    </tr>\n",
       "    <tr>\n",
       "      <th>1</th>\n",
       "      <td>19</td>\n",
       "      <td>15</td>\n",
       "      <td>1920</td>\n",
       "      <td>60</td>\n",
       "      <td>29</td>\n",
       "      <td>8</td>\n",
       "      <td>16</td>\n",
       "      <td>512</td>\n",
       "      <td>61</td>\n",
       "      <td>4</td>\n",
       "      <td>6</td>\n",
       "      <td>3</td>\n",
       "      <td>13562</td>\n",
       "    </tr>\n",
       "    <tr>\n",
       "      <th>2</th>\n",
       "      <td>3</td>\n",
       "      <td>15</td>\n",
       "      <td>1920</td>\n",
       "      <td>60</td>\n",
       "      <td>29</td>\n",
       "      <td>8</td>\n",
       "      <td>16</td>\n",
       "      <td>512</td>\n",
       "      <td>61</td>\n",
       "      <td>4</td>\n",
       "      <td>6</td>\n",
       "      <td>3</td>\n",
       "      <td>6939</td>\n",
       "    </tr>\n",
       "    <tr>\n",
       "      <th>3</th>\n",
       "      <td>2</td>\n",
       "      <td>14</td>\n",
       "      <td>3024</td>\n",
       "      <td>60</td>\n",
       "      <td>24</td>\n",
       "      <td>12</td>\n",
       "      <td>32</td>\n",
       "      <td>1024</td>\n",
       "      <td>12</td>\n",
       "      <td>0</td>\n",
       "      <td>3</td>\n",
       "      <td>2</td>\n",
       "      <td>104999</td>\n",
       "    </tr>\n",
       "    <tr>\n",
       "      <th>4</th>\n",
       "      <td>19</td>\n",
       "      <td>15</td>\n",
       "      <td>1366</td>\n",
       "      <td>60</td>\n",
       "      <td>14</td>\n",
       "      <td>4</td>\n",
       "      <td>4</td>\n",
       "      <td>0</td>\n",
       "      <td>12</td>\n",
       "      <td>0</td>\n",
       "      <td>1</td>\n",
       "      <td>2</td>\n",
       "      <td>6599</td>\n",
       "    </tr>\n",
       "  </tbody>\n",
       "</table>\n",
       "</div>"
      ],
      "text/plain": [
       "   Marka  Ekran Boyutu  Çözünürlük  Ekran Yenileme Hızı  İşlemci Tipi  \\\n",
       "0     12            15        1920                   60            17   \n",
       "1     19            15        1920                   60            29   \n",
       "2      3            15        1920                   60            29   \n",
       "3      2            14        3024                   60            24   \n",
       "4     19            15        1366                   60            14   \n",
       "\n",
       "   İşlemci Çekirdek Sayısı  Ram (Sistem Belleği)  SSD Kapasitesi  Ekran Kartı  \\\n",
       "0                        4                     8             256           12   \n",
       "1                        8                    16             512           61   \n",
       "2                        8                    16             512           61   \n",
       "3                       12                    32            1024           12   \n",
       "4                        4                     4               0           12   \n",
       "\n",
       "   Ekran Kartı Hafızası  İşletim Sistemi  Cihaz Ağırlığı   Fiyat  \n",
       "0                     0                1               2   10499  \n",
       "1                     4                6               3   13562  \n",
       "2                     4                6               3    6939  \n",
       "3                     0                3               2  104999  \n",
       "4                     0                1               2    6599  "
      ]
     },
     "execution_count": 3,
     "metadata": {},
     "output_type": "execute_result"
    }
   ],
   "source": [
    "dataset.head()"
   ]
  },
  {
   "cell_type": "code",
   "execution_count": 4,
   "id": "5ecf71fe",
   "metadata": {},
   "outputs": [],
   "source": [
    "X = dataset.iloc[:, 0:12].values\n",
    "y = dataset.iloc[:, 12].values\n",
    "y = y.reshape(-1, 1) "
   ]
  },
  {
   "cell_type": "code",
   "execution_count": 5,
   "id": "f1d0fdf6",
   "metadata": {},
   "outputs": [],
   "source": [
    "from sklearn.model_selection import train_test_split\n",
    "X_train, X_test, y_train, y_test = train_test_split(X, y, test_size = 0.2, random_state = 0)"
   ]
  },
  {
   "cell_type": "code",
   "execution_count": 6,
   "id": "6b23aecf",
   "metadata": {},
   "outputs": [],
   "source": [
    "from sklearn.tree import DecisionTreeRegressor\n",
    "regressor = DecisionTreeRegressor(random_state = 0)\n",
    "regressor.fit(X_train, y_train)\n",
    "y_predDT = regressor.predict(X_test)"
   ]
  },
  {
   "cell_type": "code",
   "execution_count": 7,
   "id": "ca357dbb",
   "metadata": {},
   "outputs": [],
   "source": [
    "from sklearn.metrics import r2_score\n",
    "DT_RSCORE = r2_score(y_test, y_predDT) "
   ]
  },
  {
   "cell_type": "code",
   "execution_count": 8,
   "id": "217f7be9",
   "metadata": {},
   "outputs": [
    {
     "name": "stdout",
     "output_type": "stream",
     "text": [
      "0.7196685707734252\n"
     ]
    }
   ],
   "source": [
    "print(DT_RSCORE)"
   ]
  },
  {
   "cell_type": "code",
   "execution_count": 9,
   "id": "5d31b3ec",
   "metadata": {},
   "outputs": [
    {
     "data": {
      "text/plain": [
       "['C:\\\\Users\\\\goaud\\\\Desktop\\\\ml laptop\\\\DecisionTreeRegressor\\\\DecisionTreeRegressor.joblib']"
      ]
     },
     "execution_count": 9,
     "metadata": {},
     "output_type": "execute_result"
    }
   ],
   "source": [
    "import os\n",
    "import joblib\n",
    "output_directory = \"C:\\\\Users\\\\goaud\\\\Desktop\\\\ml laptop\\\\DecisionTreeRegressor\"\n",
    "# Dizin kontrolü ve oluşturma\n",
    "if not os.path.exists(output_directory):\n",
    "    os.makedirs(output_directory)\n",
    "\n",
    "# Modeli kaydet\n",
    "joblib.dump(regressor, os.path.join(output_directory, \"DecisionTreeRegressor.joblib\"))\n"
   ]
  },
  {
   "cell_type": "code",
   "execution_count": null,
   "id": "d6de5d80",
   "metadata": {},
   "outputs": [],
   "source": []
  }
 ],
 "metadata": {
  "kernelspec": {
   "display_name": "Python 3 (ipykernel)",
   "language": "python",
   "name": "python3"
  },
  "language_info": {
   "codemirror_mode": {
    "name": "ipython",
    "version": 3
   },
   "file_extension": ".py",
   "mimetype": "text/x-python",
   "name": "python",
   "nbconvert_exporter": "python",
   "pygments_lexer": "ipython3",
   "version": "3.11.3"
  }
 },
 "nbformat": 4,
 "nbformat_minor": 5
}
