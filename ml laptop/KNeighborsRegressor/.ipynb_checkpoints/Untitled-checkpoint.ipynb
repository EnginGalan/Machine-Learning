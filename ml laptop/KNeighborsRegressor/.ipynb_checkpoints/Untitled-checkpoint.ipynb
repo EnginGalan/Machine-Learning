{
 "cells": [
  {
   "cell_type": "code",
   "execution_count": 1,
   "id": "f21eb448",
   "metadata": {},
   "outputs": [],
   "source": [
    "import numpy as np\n",
    "import matplotlib.pyplot as plt\n",
    "import pandas as pd"
   ]
  },
  {
   "cell_type": "code",
   "execution_count": 2,
   "id": "685f0a2c",
   "metadata": {},
   "outputs": [],
   "source": [
    "# Veri setini yükle\n",
    "dataset = pd.read_excel(\"C:\\\\Users\\\\goaud\\\\Desktop\\\\ml laptop\\\\Preprocessing\\\\laptop-fill-training.xlsx\")"
   ]
  },
  {
   "cell_type": "code",
   "execution_count": 3,
   "id": "acd75582",
   "metadata": {},
   "outputs": [],
   "source": [
    "# Bağımsız değişkenler (X) ve bağımlı değişken (y) olarak veriyi ayır\n",
    "X = dataset.iloc[:, 0:12].values\n",
    "y = dataset.iloc[:, 12].values\n",
    "y = y.reshape(-1, 1) "
   ]
  },
  {
   "cell_type": "code",
   "execution_count": 4,
   "id": "9ec932b5",
   "metadata": {},
   "outputs": [],
   "source": [
    "from sklearn.preprocessing import StandardScaler\n",
    "# Veri normalizasyonu\n",
    "scaler = StandardScaler()\n",
    "X = scaler.fit_transform(X)"
   ]
  },
  {
   "cell_type": "code",
   "execution_count": 5,
   "id": "6f425073",
   "metadata": {},
   "outputs": [],
   "source": [
    "from sklearn.model_selection import train_test_split\n",
    "# Eğitim ve test setlerini oluştur\n",
    "X_train, X_test, y_train, y_test = train_test_split(X, y, test_size=0.2, random_state=0)"
   ]
  },
  {
   "cell_type": "code",
   "execution_count": 6,
   "id": "bb6e1156",
   "metadata": {},
   "outputs": [],
   "source": [
    "from sklearn.neighbors import KNeighborsRegressor\n",
    "# K-En Yakın Komşu Regresyon modelini oluştur\n",
    "regressor_knn = KNeighborsRegressor(n_neighbors=5, weights='uniform')\n",
    "regressor_knn.fit(X_train, y_train.ravel())\n",
    "y_pred_knn = regressor_knn.predict(X_test)"
   ]
  },
  {
   "cell_type": "code",
   "execution_count": 7,
   "id": "f7221eaa",
   "metadata": {},
   "outputs": [
    {
     "name": "stdout",
     "output_type": "stream",
     "text": [
      "0.6352043340857461\n"
     ]
    }
   ],
   "source": [
    "from sklearn.metrics import r2_score\n",
    "# R2 skoru ile model performansını değerlendir\n",
    "knn_RSCORE = r2_score(y_test, y_pred_knn)\n",
    "print(knn_RSCORE)"
   ]
  },
  {
   "cell_type": "code",
   "execution_count": 8,
   "id": "d7133a80",
   "metadata": {},
   "outputs": [
    {
     "data": {
      "text/plain": [
       "['C:\\\\Users\\\\goaud\\\\Desktop\\\\ml laptop\\\\KNeighborsRegressor\\\\knn_regression_model.joblib']"
      ]
     },
     "execution_count": 8,
     "metadata": {},
     "output_type": "execute_result"
    }
   ],
   "source": [
    "import os\n",
    "import joblib\n",
    "# Modeli kaydet\n",
    "output_directory_knn = \"C:\\\\Users\\\\goaud\\\\Desktop\\\\ml laptop\\\\KNeighborsRegressor\"\n",
    "if not os.path.exists(output_directory_knn):\n",
    "    os.makedirs(output_directory_knn)\n",
    "joblib.dump(regressor_knn, os.path.join(output_directory_knn, \"knn_regression_model.joblib\"))"
   ]
  },
  {
   "cell_type": "code",
   "execution_count": null,
   "id": "bb481861",
   "metadata": {},
   "outputs": [],
   "source": []
  }
 ],
 "metadata": {
  "kernelspec": {
   "display_name": "Python 3 (ipykernel)",
   "language": "python",
   "name": "python3"
  },
  "language_info": {
   "codemirror_mode": {
    "name": "ipython",
    "version": 3
   },
   "file_extension": ".py",
   "mimetype": "text/x-python",
   "name": "python",
   "nbconvert_exporter": "python",
   "pygments_lexer": "ipython3",
   "version": "3.11.3"
  }
 },
 "nbformat": 4,
 "nbformat_minor": 5
}
