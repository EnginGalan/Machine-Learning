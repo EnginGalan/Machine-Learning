{
 "cells": [
  {
   "cell_type": "code",
   "execution_count": 1,
   "id": "ce3b3149",
   "metadata": {},
   "outputs": [],
   "source": [
    "import numpy as np\n",
    "import matplotlib.pyplot as plt\n",
    "import pandas as pd"
   ]
  },
  {
   "cell_type": "code",
   "execution_count": 2,
   "id": "8aa00fd1",
   "metadata": {},
   "outputs": [],
   "source": [
    "# Veri setini yükle\n",
    "dataset = pd.read_excel(\"C:\\\\Users\\\\goaud\\\\Desktop\\\\ml laptop\\\\Preprocessing\\\\laptop-fill-training.xlsx\")\n"
   ]
  },
  {
   "cell_type": "code",
   "execution_count": 3,
   "id": "1bb680a4",
   "metadata": {},
   "outputs": [],
   "source": [
    "# Bağımsız değişkenler (X) ve bağımlı değişken (y) olarak veriyi ayır\n",
    "X = dataset.iloc[:, 0:12].values\n",
    "y = dataset.iloc[:, 12].values\n",
    "y = y.reshape(-1, 1) "
   ]
  },
  {
   "cell_type": "code",
   "execution_count": 4,
   "id": "62a3e566",
   "metadata": {},
   "outputs": [],
   "source": [
    "from sklearn.model_selection import train_test_split\n",
    "# Eğitim ve test setlerini oluştur\n",
    "X_train, X_test, y_train, y_test = train_test_split(X, y, test_size=0.2, random_state=0)"
   ]
  },
  {
   "cell_type": "code",
   "execution_count": 5,
   "id": "65cc0696",
   "metadata": {},
   "outputs": [],
   "source": [
    "from sklearn.ensemble import GradientBoostingRegressor\n",
    "# Gradient Boosting Regresyon modelini oluştur\n",
    "regressor_gb = GradientBoostingRegressor(n_estimators=100, learning_rate=0.1, max_depth=3, random_state=0)\n",
    "regressor_gb.fit(X_train, y_train.ravel())\n",
    "y_pred_gb = regressor_gb.predict(X_test)"
   ]
  },
  {
   "cell_type": "code",
   "execution_count": 6,
   "id": "b1bb86b7",
   "metadata": {},
   "outputs": [
    {
     "name": "stdout",
     "output_type": "stream",
     "text": [
      "0.7169491642570809\n"
     ]
    }
   ],
   "source": [
    "from sklearn.metrics import r2_score\n",
    "# R2 skoru ile model performansını değerlendir\n",
    "gb_RSCORE = r2_score(y_test, y_pred_gb)\n",
    "print(gb_RSCORE)"
   ]
  },
  {
   "cell_type": "code",
   "execution_count": 7,
   "id": "02889c5e",
   "metadata": {},
   "outputs": [
    {
     "data": {
      "text/plain": [
       "['C:\\\\Users\\\\goaud\\\\Desktop\\\\ml laptop\\\\GradientBoostingRegressor\\\\gradient_boosting_regression_model.joblib']"
      ]
     },
     "execution_count": 7,
     "metadata": {},
     "output_type": "execute_result"
    }
   ],
   "source": [
    "import os\n",
    "import joblib\n",
    "# Modeli kaydet\n",
    "output_directory_gb = \"C:\\\\Users\\\\goaud\\\\Desktop\\\\ml laptop\\\\GradientBoostingRegressor\"\n",
    "if not os.path.exists(output_directory_gb):\n",
    "    os.makedirs(output_directory_gb)\n",
    "joblib.dump(regressor_gb, os.path.join(output_directory_gb, \"gradient_boosting_regression_model.joblib\"))"
   ]
  },
  {
   "cell_type": "code",
   "execution_count": null,
   "id": "4ea0deb9",
   "metadata": {},
   "outputs": [],
   "source": []
  }
 ],
 "metadata": {
  "kernelspec": {
   "display_name": "Python 3 (ipykernel)",
   "language": "python",
   "name": "python3"
  },
  "language_info": {
   "codemirror_mode": {
    "name": "ipython",
    "version": 3
   },
   "file_extension": ".py",
   "mimetype": "text/x-python",
   "name": "python",
   "nbconvert_exporter": "python",
   "pygments_lexer": "ipython3",
   "version": "3.11.3"
  }
 },
 "nbformat": 4,
 "nbformat_minor": 5
}
