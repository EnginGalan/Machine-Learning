{
 "cells": [
  {
   "cell_type": "code",
   "execution_count": 1,
   "id": "387a8ee0",
   "metadata": {},
   "outputs": [],
   "source": [
    "import numpy as np\n",
    "import matplotlib.pyplot as plt\n",
    "import pandas as pd"
   ]
  },
  {
   "cell_type": "code",
   "execution_count": 2,
   "id": "87cd4181",
   "metadata": {},
   "outputs": [],
   "source": [
    "dataset = pd.read_excel(\"C:\\\\Users\\\\goaud\\\\Desktop\\\\ml laptop\\\\Preprocessing\\\\laptop-fill-training.xlsx\")"
   ]
  },
  {
   "cell_type": "code",
   "execution_count": 3,
   "id": "f7f2af7d",
   "metadata": {},
   "outputs": [],
   "source": [
    "# Bağımsız değişkenler (X) ve bağımlı değişken (y) olarak veriyi ayır\n",
    "X = dataset.iloc[:, 0:12].values\n",
    "y = dataset.iloc[:, 12].values\n",
    "y = y.reshape(-1, 1) "
   ]
  },
  {
   "cell_type": "code",
   "execution_count": 4,
   "id": "69870d47",
   "metadata": {},
   "outputs": [],
   "source": [
    "from sklearn.model_selection import train_test_split\n",
    "# Eğitim ve test setlerini oluştur\n",
    "X_train, X_test, y_train, y_test = train_test_split(X, y, test_size=0.2, random_state=0)"
   ]
  },
  {
   "cell_type": "code",
   "execution_count": 5,
   "id": "dfdd3235",
   "metadata": {},
   "outputs": [],
   "source": [
    "from sklearn.linear_model import LinearRegression\n",
    "# Lineer Regresyon modelini oluştur\n",
    "regressor_linear = LinearRegression()\n",
    "regressor_linear.fit(X_train, y_train)\n",
    "y_pred_linear = regressor_linear.predict(X_test)"
   ]
  },
  {
   "cell_type": "code",
   "execution_count": 6,
   "id": "52977b76",
   "metadata": {},
   "outputs": [
    {
     "name": "stdout",
     "output_type": "stream",
     "text": [
      "0.5332108068765136\n"
     ]
    }
   ],
   "source": [
    "from sklearn.metrics import r2_score\n",
    "# R2 skoru ile model performansını değerlendir\n",
    "linear_RSCORE = r2_score(y_test, y_pred_linear)\n",
    "print(linear_RSCORE)"
   ]
  },
  {
   "cell_type": "code",
   "execution_count": 8,
   "id": "7e5bc2e4",
   "metadata": {},
   "outputs": [
    {
     "data": {
      "text/plain": [
       "['C:\\\\Users\\\\goaud\\\\Desktop\\\\ml laptop\\\\LinearRegression\\\\linear_regression_model.joblib']"
      ]
     },
     "execution_count": 8,
     "metadata": {},
     "output_type": "execute_result"
    }
   ],
   "source": [
    "import os\n",
    "import joblib\n",
    "# Modeli kaydet\n",
    "output_directory_linear = \"C:\\\\Users\\\\goaud\\\\Desktop\\\\ml laptop\\\\LinearRegression\"\n",
    "if not os.path.exists(output_directory_linear):\n",
    "    os.makedirs(output_directory_linear)\n",
    "joblib.dump(regressor_linear, os.path.join(output_directory_linear, \"linear_regression_model.joblib\"))"
   ]
  },
  {
   "cell_type": "code",
   "execution_count": null,
   "id": "d9402d3b",
   "metadata": {},
   "outputs": [],
   "source": []
  }
 ],
 "metadata": {
  "kernelspec": {
   "display_name": "Python 3 (ipykernel)",
   "language": "python",
   "name": "python3"
  },
  "language_info": {
   "codemirror_mode": {
    "name": "ipython",
    "version": 3
   },
   "file_extension": ".py",
   "mimetype": "text/x-python",
   "name": "python",
   "nbconvert_exporter": "python",
   "pygments_lexer": "ipython3",
   "version": "3.11.3"
  }
 },
 "nbformat": 4,
 "nbformat_minor": 5
}
